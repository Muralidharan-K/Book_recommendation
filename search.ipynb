{
 "cells": [
  {
   "cell_type": "code",
   "execution_count": null,
   "id": "2c42e78f-c4a0-47bd-ae2c-a54da0917f79",
   "metadata": {},
   "outputs": [],
   "source": [
    "import gzip\n",
    "\n",
    "with gzip.open(\"goodreads_books.json.gz\") as f: # used to stream the file without unzip the file\n",
    "    line = f.readline() # reads the file line by line "
   ]
  },
  {
   "cell_type": "code",
   "execution_count": null,
   "id": "50cf97d6-26c3-4827-baef-ae3253bf3567",
   "metadata": {},
   "outputs": [],
   "source": [
    "print(line) # print the first line "
   ]
  },
  {
   "cell_type": "code",
   "execution_count": null,
   "id": "7f8b6cf4-ec1a-400d-992d-50ccb61d349d",
   "metadata": {},
   "outputs": [],
   "source": [
    "import json\n",
    "data = json.loads(line) # converts the strings into python dictionary data type\n",
    "data"
   ]
  },
  {
   "cell_type": "code",
   "execution_count": null,
   "id": "8273e779-d7b9-4264-9828-d06808c65034",
   "metadata": {},
   "outputs": [],
   "source": [
    "# creating function to return the required field from jason.gz file \n",
    "def parse_fields(line):\n",
    "    data = json.loads(line)\n",
    "    return {\n",
    "        \"book_id\": data[\"book_id\"], \n",
    "        \"title\": data[\"title_without_series\"], \n",
    "        \"ratings\": data[\"ratings_count\"], \n",
    "        \"url\": data[\"url\"], \n",
    "        \"cover_image\": data[\"image_url\"]\n",
    "    }"
   ]
  },
  {
   "cell_type": "code",
   "execution_count": null,
   "id": "17a3ce41-de41-4ea1-bfa8-115be0e562c4",
   "metadata": {},
   "outputs": [],
   "source": [
    "# creating book_titles.json file\n",
    "books_titles = []\n",
    "with gzip.open(\"goodreads_books.json.gz\") as f:\n",
    "    while True:\n",
    "        line = f.readline()\n",
    "        if not line:\n",
    "            break\n",
    "        fields = parse_fields(line)\n",
    "        try:\n",
    "            ratings = int(fields[\"ratings\"])\n",
    "        except ValueError:\n",
    "            continue\n",
    "        if ratings > 5:\n",
    "            books_titles.append(fields)"
   ]
  },
  {
   "cell_type": "code",
   "execution_count": null,
   "id": "41ce3dff-3be7-4eaa-825c-a7ff1f93c3c1",
   "metadata": {},
   "outputs": [],
   "source": [
    "import pandas as pd\n",
    "titles = pd.DataFrame.from_dict(books_titles)\n",
    "titles[\"ratings\"] = pd.to_numeric(titles[\"ratings\"]) #convert rating field data from str to int\n"
   ]
  },
  {
   "cell_type": "code",
   "execution_count": null,
   "id": "e4be3677",
   "metadata": {},
   "outputs": [],
   "source": [
    "titles"
   ]
  },
  {
   "cell_type": "code",
   "execution_count": null,
   "id": "a33b8436-958b-40a9-b7c6-74cb352eb468",
   "metadata": {},
   "outputs": [],
   "source": [
    "# add modified title as new filed and clean the datas\n",
    "titles[\"mod_title\"] = titles[\"title\"].str.replace(\"[^a-zA-Z0-9 ]\", \"\", regex=True) #retain only alphanumeric\n",
    "titles[\"mod_title\"] = titles[\"mod_title\"].str.lower() # convert into lower case\n",
    "titles[\"mod_title\"] = titles[\"mod_title\"].str.replace(\"\\s+\", \" \", regex=True) # replaces long spaces into single space\n",
    "titles = titles[titles[\"mod_title\"].str.len() > 0] # removes rows where the \"mod_title\" is an empty string or whitespace\n",
    "titles.to_json(\"books_titles.json\") # saves the title dataframe into json file"
   ]
  },
  {
   "cell_type": "code",
   "execution_count": null,
   "id": "ae7b1fcf",
   "metadata": {},
   "outputs": [],
   "source": [
    "titles"
   ]
  },
  {
   "cell_type": "code",
   "execution_count": null,
   "id": "fc17003a-e042-4844-b7f3-5bb807ee7570",
   "metadata": {},
   "outputs": [],
   "source": [
    "from sklearn.feature_extraction.text import TfidfVectorizer\n",
    "vectorizer = TfidfVectorizer() # Create a TfidfVectorizer object\n",
    "\n",
    "tfidf = vectorizer.fit_transform(titles[\"mod_title\"]) # Convert the text into a TF-IDF matrix"
   ]
  },
  {
   "cell_type": "code",
   "execution_count": null,
   "id": "fc60567c-feb3-4ff4-8b5e-07c33d881351",
   "metadata": {},
   "outputs": [],
   "source": [
    "from sklearn.metrics.pairwise import cosine_similarity\n",
    "import numpy as np\n",
    "import re\n",
    "\n",
    "def make_clickable(val):\n",
    "    return '<a target=\"_blank\" href=\"{}\">Go to website</a>'.format(val, val)\n",
    "\n",
    "def show_image(val):\n",
    "    return '<a href=\"{}\"><img src=\"{}\" width=50></img></a>'.format(val, val)\n",
    "\n",
    "def search(query,vectorizer):\n",
    "    processed = re.sub(\"[^a-zA-Z0-9 ]\", \"\", query.lower()) #convert the query into lower case and alphanumeric value\n",
    "    query_vec = vectorizer.transform([query]) #fit and transform the query text into TF-IDF matrix\n",
    "    similarity = cosine_similarity(query_vec, tfidf).flatten() #calculates the similarity b/w query and tfidf\n",
    "    indices = np.argpartition(similarity, -5)[-5:] #finds the indices of the five largest elements in the similarity array\n",
    "    results = titles.iloc[indices] #retrieves the corresponding titles based on their most similar indices in the original dataset\n",
    "    results = results.sort_values(\"ratings\", ascending=False) # sort the results based on ratings column\n",
    "    \n",
    "    return results.head(5).style.format({'url': make_clickable, 'cover_image': show_image})"
   ]
  },
  {
   "cell_type": "code",
   "execution_count": null,
   "id": "c5be8db0-bc22-4a69-b7ac-d3a1f9dd0d4f",
   "metadata": {},
   "outputs": [],
   "source": [
    "search(\"harry potter\", vectorizer)"
   ]
  }
 ],
 "metadata": {
  "kernelspec": {
   "display_name": "Python 3 (ipykernel)",
   "language": "python",
   "name": "python3"
  },
  "language_info": {
   "codemirror_mode": {
    "name": "ipython",
    "version": 3
   },
   "file_extension": ".py",
   "mimetype": "text/x-python",
   "name": "python",
   "nbconvert_exporter": "python",
   "pygments_lexer": "ipython3",
   "version": "3.10.7"
  }
 },
 "nbformat": 4,
 "nbformat_minor": 5
}
